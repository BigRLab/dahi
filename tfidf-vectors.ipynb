{
 "cells": [
  {
   "cell_type": "code",
   "execution_count": 114,
   "metadata": {
    "collapsed": true
   },
   "outputs": [],
   "source": [
    "import math\n",
    "from sklearn.feature_extraction.text import CountVectorizer"
   ]
  },
  {
   "cell_type": "code",
   "execution_count": 119,
   "metadata": {
    "collapsed": true
   },
   "outputs": [],
   "source": [
    "train_set = (\n",
    "    \"the sky is blue.\", \n",
    "    \"the sun is bright.\", \n",
    "    \"the blue bright ocean, blue sky\",\n",
    "    \"the car is blue and yellow\",\n",
    "    \"the sun and ocean and yellow\")\n",
    "test_set = (\"The sun in the sky is bright.\",\n",
    "    \"We can see the shining sun, the bright sun.\")"
   ]
  },
  {
   "cell_type": "code",
   "execution_count": 107,
   "metadata": {
    "collapsed": false
   },
   "outputs": [
    {
     "data": {
      "text/plain": [
       "CountVectorizer(analyzer=u'word', binary=False, decode_error=u'strict',\n",
       "        dtype=<type 'numpy.int64'>, encoding=u'utf-8', input=u'content',\n",
       "        lowercase=True, max_df=1.0, max_features=None, min_df=1,\n",
       "        ngram_range=(1, 1), preprocessor=None, stop_words=None,\n",
       "        strip_accents=None, token_pattern=u'(?u)\\\\b\\\\w\\\\w+\\\\b',\n",
       "        tokenizer=None, vocabulary=None)"
      ]
     },
     "execution_count": 107,
     "metadata": {},
     "output_type": "execute_result"
    }
   ],
   "source": [
    "vectorizer = CountVectorizer()\n",
    "vectorizer"
   ]
  },
  {
   "cell_type": "code",
   "execution_count": 108,
   "metadata": {
    "collapsed": false
   },
   "outputs": [
    {
     "name": "stdout",
     "output_type": "stream",
     "text": [
      "{u'blue': 1, u'and': 0, u'sun': 7, u'is': 4, u'sky': 6, u'yellow': 9, u'ocean': 5, u'bright': 2, u'car': 3, u'the': 8}\n"
     ]
    }
   ],
   "source": [
    "vectorizer.fit_transform(train_set)\n",
    "print vectorizer.vocabulary_"
   ]
  },
  {
   "cell_type": "code",
   "execution_count": 120,
   "metadata": {
    "collapsed": false
   },
   "outputs": [
    {
     "data": {
      "text/plain": [
       "matrix([[0, 1, 0, 0, 1, 0, 1, 0, 1, 0],\n",
       "        [0, 0, 1, 0, 1, 0, 0, 1, 1, 0],\n",
       "        [0, 2, 1, 0, 0, 1, 1, 0, 1, 0],\n",
       "        [1, 1, 0, 1, 1, 0, 0, 0, 1, 1],\n",
       "        [2, 0, 0, 0, 0, 1, 0, 1, 1, 1]])"
      ]
     },
     "execution_count": 120,
     "metadata": {},
     "output_type": "execute_result"
    }
   ],
   "source": [
    "smatrix = vectorizer.transform(train_set).todense()\n",
    "smatrix"
   ]
  },
  {
   "cell_type": "code",
   "execution_count": 121,
   "metadata": {
    "collapsed": false
   },
   "outputs": [
    {
     "data": {
      "text/plain": [
       "1.25"
      ]
     },
     "execution_count": 121,
     "metadata": {},
     "output_type": "execute_result"
    }
   ],
   "source": [
    "float(smatrix.shape[0]) / (smatrix[:,4].sum() + 1)"
   ]
  },
  {
   "cell_type": "code",
   "execution_count": 122,
   "metadata": {
    "collapsed": false
   },
   "outputs": [],
   "source": [
    "def tf(docIndex, term):\n",
    "    row = docIndex\n",
    "    column = vectorizer.vocabulary_[term]\n",
    "    tf = float(smatrix[row, column])\n",
    "    tf = tf / smatrix[row,:].sum()\n",
    "    return tf\n",
    "def idf(term):\n",
    "    column = vectorizer.vocabulary_[term]\n",
    "    return math.log(\n",
    "        float(smatrix.shape[0]) / (smatrix[:,column].sum() + 1)\n",
    "        )"
   ]
  },
  {
   "cell_type": "code",
   "execution_count": 123,
   "metadata": {
    "collapsed": false
   },
   "outputs": [
    {
     "name": "stdout",
     "output_type": "stream",
     "text": [
      "-0.182321556794\n",
      "0.510825623766\n",
      "0.916290731874\n"
     ]
    }
   ],
   "source": [
    "print idf(\"the\")\n",
    "print idf(\"ocean\")\n",
    "print idf(\"car\")"
   ]
  },
  {
   "cell_type": "code",
   "execution_count": 124,
   "metadata": {
    "collapsed": false
   },
   "outputs": [
    {
     "name": "stdout",
     "output_type": "stream",
     "text": [
      "0.166666666667\n",
      "0.166666666667\n"
     ]
    }
   ],
   "source": [
    "print tf(3, \"car\")\n",
    "print tf(3, \"the\")"
   ]
  },
  {
   "cell_type": "code",
   "execution_count": 128,
   "metadata": {
    "collapsed": false
   },
   "outputs": [
    {
     "name": "stdout",
     "output_type": "stream",
     "text": [
      "0.152715121979\n",
      "-0.0303869261323\n"
     ]
    }
   ],
   "source": [
    "print tf(3, \"car\") * idf(\"car\")\n",
    "print tf(3, \"the\") * idf(\"the\")"
   ]
  },
  {
   "cell_type": "code",
   "execution_count": null,
   "metadata": {
    "collapsed": true
   },
   "outputs": [],
   "source": []
  }
 ],
 "metadata": {
  "kernelspec": {
   "display_name": "Python 2",
   "language": "python",
   "name": "python2"
  },
  "language_info": {
   "codemirror_mode": {
    "name": "ipython",
    "version": 2
   },
   "file_extension": ".py",
   "mimetype": "text/x-python",
   "name": "python",
   "nbconvert_exporter": "python",
   "pygments_lexer": "ipython2",
   "version": "2.7.10"
  }
 },
 "nbformat": 4,
 "nbformat_minor": 0
}
